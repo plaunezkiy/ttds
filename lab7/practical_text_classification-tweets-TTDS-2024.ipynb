{
 "cells": [
  {
   "cell_type": "markdown",
   "metadata": {},
   "source": [
    "# TTDS 2024/25 Lecture 17: Text Classification Practical"
   ]
  },
  {
   "cell_type": "markdown",
   "metadata": {},
   "source": [
    "Instructor: Björn Ross 20 November 2024\n",
    "\n",
    "Created by Steve Wilson November 2020, modified by Björn Ross"
   ]
  },
  {
   "cell_type": "markdown",
   "metadata": {},
   "source": [
    "## Let's build a text classifier!"
   ]
  },
  {
   "cell_type": "markdown",
   "metadata": {},
   "source": [
    "### 1. Setup"
   ]
  },
  {
   "cell_type": "code",
   "execution_count": 1,
   "metadata": {},
   "outputs": [
    {
     "name": "stdout",
     "output_type": "stream",
     "text": [
      "1.5.2\n"
     ]
    }
   ],
   "source": [
    "import sklearn\n",
    "print(sklearn.__version__)"
   ]
  },
  {
   "cell_type": "code",
   "execution_count": 2,
   "metadata": {
    "scrolled": true
   },
   "outputs": [],
   "source": [
    "# some prereqs:\n",
    "import collections\n",
    "\n",
    "# regular expressions\n",
    "import re\n",
    "\n",
    "# for string.punctuation: list of punctuation characters\n",
    "import string\n",
    "\n",
    "# import this for storing our BOW format\n",
    "import scipy\n",
    "from scipy import sparse\n",
    "\n",
    "# numpy for more easily storing multidimensional data\n",
    "import numpy as np\n",
    "\n",
    "# scikit learn. Contains lots of ML models we can use\n",
    "# import the library for support vector machines\n",
    "from sklearn import svm\n",
    "from sklearn import ensemble\n",
    "from sklearn.metrics import classification_report"
   ]
  },
  {
   "cell_type": "markdown",
   "metadata": {},
   "source": [
    "**Note:**\n",
    "* Any package in the Python standard library (https://docs.python.org/3/library/) can be used in the coursework, as can NumPy and SciPy, any function in scikit-learn, etc. You are encouraged to experiment!\n",
    "* If you are unsure, just ask on Piazza!"
   ]
  },
  {
   "cell_type": "markdown",
   "metadata": {},
   "source": [
    "### 2. Check the data format"
   ]
  },
  {
   "cell_type": "code",
   "execution_count": 3,
   "metadata": {},
   "outputs": [
    {
     "name": "stderr",
     "output_type": "stream",
     "text": [
      "'cat' is not recognized as an internal or external command,\n",
      "operable program or batch file.\n"
     ]
    }
   ],
   "source": [
    "# check out the data (use ! for command line operation)\n",
    "!cat Tweets.14cat.train | head -5"
   ]
  },
  {
   "cell_type": "markdown",
   "metadata": {},
   "source": [
    "### 3. Load and preprocess the lab data"
   ]
  },
  {
   "cell_type": "code",
   "execution_count": 20,
   "metadata": {},
   "outputs": [],
   "source": [
    "# load our data\n",
    "training_data = open('../data/collections/Tweets.14cat.train',encoding=\"latin-1\").read()\n",
    "test_data     = open('../data/collections/Tweets.14cat.test',encoding=\"latin-1\").read()\n",
    "# we will save the testing data for later..."
   ]
  },
  {
   "cell_type": "code",
   "execution_count": 21,
   "metadata": {
    "scrolled": true
   },
   "outputs": [
    {
     "data": {
      "text/plain": [
       "'4502931410'"
      ]
     },
     "execution_count": 21,
     "metadata": {},
     "output_type": "execute_result"
    }
   ],
   "source": [
    "training_data[:10]"
   ]
  },
  {
   "cell_type": "code",
   "execution_count": 8,
   "metadata": {},
   "outputs": [
    {
     "data": {
      "text/plain": [
       "'!\"#$%&\\'()*+,-./:;<=>?@[\\\\]^_`{|}~'"
      ]
     },
     "execution_count": 8,
     "metadata": {},
     "output_type": "execute_result"
    }
   ],
   "source": [
    "string.punctuation"
   ]
  },
  {
   "cell_type": "code",
   "execution_count": 22,
   "metadata": {},
   "outputs": [
    {
     "data": {
      "text/plain": [
       "['hello', 'world', 'tweets']"
      ]
     },
     "execution_count": 22,
     "metadata": {},
     "output_type": "execute_result"
    }
   ],
   "source": [
    "# example of how the tokenization part will work\n",
    "# q: what important features might this remove?\n",
    "invalid_chars = re.compile(f'[{string.punctuation}]')\n",
    "invalid_chars.sub('',\"Hello, World! #Tweets\").lower().split()"
   ]
  },
  {
   "cell_type": "code",
   "execution_count": 23,
   "metadata": {},
   "outputs": [],
   "source": [
    "# convert to list of lists: documents containing tokens\n",
    "# and return the list of categories\n",
    "# also get the vocabulary\n",
    "def preprocess_data(data):\n",
    "    \n",
    "    chars_to_remove = re.compile(f'[{string.punctuation}]')\n",
    "    \n",
    "    documents = []\n",
    "    categories = []\n",
    "    vocab = set([])\n",
    "    \n",
    "    lines = data.split('\\n')\n",
    "    \n",
    "    for line in lines:\n",
    "        # make a dictionary for each document\n",
    "        # word_id -> count (could also be tf-idf score, etc.)\n",
    "        line = line.strip()\n",
    "        if line:\n",
    "            # split on tabs, we have 3 columns in this tsv format file\n",
    "            tweet_id, tweet, category = line.split('\\t')\n",
    "\n",
    "            # process the words\n",
    "            words = chars_to_remove.sub('',tweet).lower().split()\n",
    "            for word in words:\n",
    "                vocab.add(word)\n",
    "            # add the list of words to the documents list\n",
    "            documents.append(words)\n",
    "            # add the category to the categories list\n",
    "            categories.append(category)\n",
    "            \n",
    "    return documents, categories, vocab"
   ]
  },
  {
   "cell_type": "code",
   "execution_count": 24,
   "metadata": {},
   "outputs": [
    {
     "name": "stdout",
     "output_type": "stream",
     "text": [
      "CPU times: total: 0 ns\n",
      "Wall time: 0 ns\n",
      "Training Data has 2503 documents and vocab size of 12726\n",
      "Test Data has 625 documents and vocab size of 4365\n",
      "There were 14 categories in the training data and 14 in the test.\n"
     ]
    }
   ],
   "source": [
    "%time\n",
    "# ^ see how long this takes\n",
    "# preprocess the data\n",
    "preprocessed_training_data, training_categories, train_vocab = preprocess_data(training_data)\n",
    "preprocessed_test_data, test_categories, test_vocab = preprocess_data(test_data)\n",
    "\n",
    "print(f\"Training Data has {len(preprocessed_training_data)} \" +\n",
    "      f\"documents and vocab size of {len(train_vocab)}\")\n",
    "print(f\"Test Data has {len(preprocessed_test_data)} \" +\n",
    "      f\"documents and vocab size of {len(test_vocab)}\")\n",
    "print(f\"There were {len(set(training_categories))} \" +\n",
    "      f\"categories in the training data and {len(set(test_categories))} in the test.\")"
   ]
  },
  {
   "cell_type": "code",
   "execution_count": 25,
   "metadata": {
    "scrolled": true
   },
   "outputs": [
    {
     "name": "stdout",
     "output_type": "stream",
     "text": [
      "[('Gaming', 220), ('Autos & Vehicles', 210), ('Howto & Style', 207), ('Sports', 203), ('Travel & Events', 196), ('Science & Technology', 189), ('Film & Animation', 178), ('Pets & Animals', 177), ('News & Politics', 168), ('Music', 160), ('Entertainment', 159), ('Comedy', 153), ('Education', 142), ('Nonprofits & Activism', 141)]\n"
     ]
    }
   ],
   "source": [
    "# check the most common categories in the training data\n",
    "print(collections.Counter(training_categories).most_common())"
   ]
  },
  {
   "cell_type": "markdown",
   "metadata": {},
   "source": [
    "### 4. Set up mappings for word and category IDs"
   ]
  },
  {
   "cell_type": "code",
   "execution_count": 28,
   "metadata": {},
   "outputs": [
    {
     "name": "stdout",
     "output_type": "stream",
     "text": [
      "The word id for dog is 1439\n",
      "The category id for Pets & Animals is 0\n"
     ]
    }
   ],
   "source": [
    "# convert the vocab to a word id lookup dictionary\n",
    "# anything not in this will be considered \"out of vocabulary\" OOV\n",
    "word2id = {}\n",
    "for word_id,word in enumerate(train_vocab):\n",
    "    word2id[word] = word_id\n",
    "    \n",
    "# and do the same for the categories\n",
    "cat2id = {}\n",
    "for cat_id,cat in enumerate(set(training_categories)):\n",
    "    cat2id[cat] = cat_id\n",
    "    \n",
    "print(\"The word id for dog is\",word2id['dog'])\n",
    "print(\"The category id for Pets & Animals is\",cat2id['Pets & Animals'])"
   ]
  },
  {
   "cell_type": "code",
   "execution_count": 29,
   "metadata": {},
   "outputs": [
    {
     "data": {
      "text/plain": [
       "{'Pets & Animals': 0,\n",
       " 'Nonprofits & Activism': 1,\n",
       " 'Comedy': 2,\n",
       " 'Film & Animation': 3,\n",
       " 'Education': 4,\n",
       " 'Autos & Vehicles': 5,\n",
       " 'Music': 6,\n",
       " 'Science & Technology': 7,\n",
       " 'Travel & Events': 8,\n",
       " 'Sports': 9,\n",
       " 'Howto & Style': 10,\n",
       " 'News & Politics': 11,\n",
       " 'Entertainment': 12,\n",
       " 'Gaming': 13}"
      ]
     },
     "execution_count": 29,
     "metadata": {},
     "output_type": "execute_result"
    }
   ],
   "source": [
    "cat2id"
   ]
  },
  {
   "cell_type": "markdown",
   "metadata": {},
   "source": [
    "### 5. Convert data to bag-of-words format"
   ]
  },
  {
   "cell_type": "code",
   "execution_count": 30,
   "metadata": {},
   "outputs": [],
   "source": [
    "# build a BOW representation of the files: use the scipy \n",
    "# data is the preprocessed_data\n",
    "# word2id maps words to their ids\n",
    "def convert_to_bow_matrix(preprocessed_data, word2id):\n",
    "    \n",
    "    # matrix size is number of docs x vocab size + 1 (for OOV)\n",
    "    matrix_size = (len(preprocessed_data),len(word2id)+1)\n",
    "    oov_index = len(word2id)\n",
    "    # matrix indexed by [doc_id, token_id]\n",
    "    X = scipy.sparse.dok_matrix(matrix_size)\n",
    "\n",
    "    # iterate through all documents in the dataset\n",
    "    for doc_id,doc in enumerate(preprocessed_data):\n",
    "        for word in doc:\n",
    "            # default is 0, so just add to the count for this word in this doc\n",
    "            # if the word is oov, increment the oov_index\n",
    "            X[doc_id,word2id.get(word,oov_index)] += 1\n",
    "    \n",
    "    return X"
   ]
  },
  {
   "cell_type": "code",
   "execution_count": 31,
   "metadata": {},
   "outputs": [
    {
     "name": "stdout",
     "output_type": "stream",
     "text": [
      "CPU times: total: 266 ms\n",
      "Wall time: 409 ms\n"
     ]
    }
   ],
   "source": [
    "%%time \n",
    "X_train = convert_to_bow_matrix(preprocessed_training_data, word2id)"
   ]
  },
  {
   "cell_type": "code",
   "execution_count": 32,
   "metadata": {},
   "outputs": [
    {
     "name": "stdout",
     "output_type": "stream",
     "text": [
      "First 3 documents are:   (0, 5761)\t1.0\n",
      "  (0, 4313)\t1.0\n",
      "  (0, 10417)\t1.0\n",
      "  (0, 11926)\t1.0\n",
      "  (0, 10719)\t1.0\n",
      "  (0, 1748)\t1.0\n",
      "  (0, 9809)\t1.0\n",
      "  (0, 943)\t1.0\n",
      "  (0, 11930)\t1.0\n",
      "  (0, 3139)\t1.0\n",
      "  (0, 10366)\t1.0\n",
      "  (0, 8733)\t1.0\n",
      "  (0, 7440)\t1.0\n",
      "  (0, 6201)\t1.0\n",
      "  (0, 11635)\t1.0\n",
      "  (1, 5620)\t1.0\n",
      "  (1, 10516)\t1.0\n",
      "  (1, 2134)\t1.0\n",
      "  (1, 11300)\t1.0\n",
      "  (2, 397)\t2.0\n",
      "  (2, 981)\t2.0\n",
      "  (2, 9119)\t1.0\n",
      "  (2, 12604)\t1.0\n",
      "  (2, 6680)\t1.0\n",
      "  (2, 7876)\t1.0\n",
      "  (2, 3597)\t1.0\n",
      "  (2, 1501)\t1.0\n",
      "  (2, 4517)\t1.0\n",
      "  (2, 2097)\t1.0\n",
      "  (2, 7751)\t1.0\n",
      "  (2, 7660)\t1.0\n"
     ]
    }
   ],
   "source": [
    "# check some docs\n",
    "print(\"First 3 documents are:\",X_train[:3])"
   ]
  },
  {
   "cell_type": "code",
   "execution_count": 33,
   "metadata": {},
   "outputs": [],
   "source": [
    "y_train = [cat2id[cat] for cat in training_categories]"
   ]
  },
  {
   "cell_type": "code",
   "execution_count": 34,
   "metadata": {},
   "outputs": [
    {
     "name": "stdout",
     "output_type": "stream",
     "text": [
      "[0, 0, 0]\n"
     ]
    }
   ],
   "source": [
    "# check the first 3 categories\n",
    "print(y_train[:3])"
   ]
  },
  {
   "cell_type": "code",
   "execution_count": 35,
   "metadata": {},
   "outputs": [
    {
     "data": {
      "text/plain": [
       "<2503x12727 sparse matrix of type '<class 'numpy.float64'>'\n",
       "\twith 32496 stored elements in Dictionary Of Keys format>"
      ]
     },
     "execution_count": 35,
     "metadata": {},
     "output_type": "execute_result"
    }
   ],
   "source": [
    "X_train"
   ]
  },
  {
   "cell_type": "markdown",
   "metadata": {},
   "source": [
    "### 6. Train an SVM model"
   ]
  },
  {
   "cell_type": "code",
   "execution_count": 36,
   "metadata": {},
   "outputs": [
    {
     "name": "stdout",
     "output_type": "stream",
     "text": [
      "CPU times: total: 0 ns\n",
      "Wall time: 0 ns\n"
     ]
    },
    {
     "data": {
      "text/html": [
       "<style>#sk-container-id-1 {\n",
       "  /* Definition of color scheme common for light and dark mode */\n",
       "  --sklearn-color-text: black;\n",
       "  --sklearn-color-line: gray;\n",
       "  /* Definition of color scheme for unfitted estimators */\n",
       "  --sklearn-color-unfitted-level-0: #fff5e6;\n",
       "  --sklearn-color-unfitted-level-1: #f6e4d2;\n",
       "  --sklearn-color-unfitted-level-2: #ffe0b3;\n",
       "  --sklearn-color-unfitted-level-3: chocolate;\n",
       "  /* Definition of color scheme for fitted estimators */\n",
       "  --sklearn-color-fitted-level-0: #f0f8ff;\n",
       "  --sklearn-color-fitted-level-1: #d4ebff;\n",
       "  --sklearn-color-fitted-level-2: #b3dbfd;\n",
       "  --sklearn-color-fitted-level-3: cornflowerblue;\n",
       "\n",
       "  /* Specific color for light theme */\n",
       "  --sklearn-color-text-on-default-background: var(--sg-text-color, var(--theme-code-foreground, var(--jp-content-font-color1, black)));\n",
       "  --sklearn-color-background: var(--sg-background-color, var(--theme-background, var(--jp-layout-color0, white)));\n",
       "  --sklearn-color-border-box: var(--sg-text-color, var(--theme-code-foreground, var(--jp-content-font-color1, black)));\n",
       "  --sklearn-color-icon: #696969;\n",
       "\n",
       "  @media (prefers-color-scheme: dark) {\n",
       "    /* Redefinition of color scheme for dark theme */\n",
       "    --sklearn-color-text-on-default-background: var(--sg-text-color, var(--theme-code-foreground, var(--jp-content-font-color1, white)));\n",
       "    --sklearn-color-background: var(--sg-background-color, var(--theme-background, var(--jp-layout-color0, #111)));\n",
       "    --sklearn-color-border-box: var(--sg-text-color, var(--theme-code-foreground, var(--jp-content-font-color1, white)));\n",
       "    --sklearn-color-icon: #878787;\n",
       "  }\n",
       "}\n",
       "\n",
       "#sk-container-id-1 {\n",
       "  color: var(--sklearn-color-text);\n",
       "}\n",
       "\n",
       "#sk-container-id-1 pre {\n",
       "  padding: 0;\n",
       "}\n",
       "\n",
       "#sk-container-id-1 input.sk-hidden--visually {\n",
       "  border: 0;\n",
       "  clip: rect(1px 1px 1px 1px);\n",
       "  clip: rect(1px, 1px, 1px, 1px);\n",
       "  height: 1px;\n",
       "  margin: -1px;\n",
       "  overflow: hidden;\n",
       "  padding: 0;\n",
       "  position: absolute;\n",
       "  width: 1px;\n",
       "}\n",
       "\n",
       "#sk-container-id-1 div.sk-dashed-wrapped {\n",
       "  border: 1px dashed var(--sklearn-color-line);\n",
       "  margin: 0 0.4em 0.5em 0.4em;\n",
       "  box-sizing: border-box;\n",
       "  padding-bottom: 0.4em;\n",
       "  background-color: var(--sklearn-color-background);\n",
       "}\n",
       "\n",
       "#sk-container-id-1 div.sk-container {\n",
       "  /* jupyter's `normalize.less` sets `[hidden] { display: none; }`\n",
       "     but bootstrap.min.css set `[hidden] { display: none !important; }`\n",
       "     so we also need the `!important` here to be able to override the\n",
       "     default hidden behavior on the sphinx rendered scikit-learn.org.\n",
       "     See: https://github.com/scikit-learn/scikit-learn/issues/21755 */\n",
       "  display: inline-block !important;\n",
       "  position: relative;\n",
       "}\n",
       "\n",
       "#sk-container-id-1 div.sk-text-repr-fallback {\n",
       "  display: none;\n",
       "}\n",
       "\n",
       "div.sk-parallel-item,\n",
       "div.sk-serial,\n",
       "div.sk-item {\n",
       "  /* draw centered vertical line to link estimators */\n",
       "  background-image: linear-gradient(var(--sklearn-color-text-on-default-background), var(--sklearn-color-text-on-default-background));\n",
       "  background-size: 2px 100%;\n",
       "  background-repeat: no-repeat;\n",
       "  background-position: center center;\n",
       "}\n",
       "\n",
       "/* Parallel-specific style estimator block */\n",
       "\n",
       "#sk-container-id-1 div.sk-parallel-item::after {\n",
       "  content: \"\";\n",
       "  width: 100%;\n",
       "  border-bottom: 2px solid var(--sklearn-color-text-on-default-background);\n",
       "  flex-grow: 1;\n",
       "}\n",
       "\n",
       "#sk-container-id-1 div.sk-parallel {\n",
       "  display: flex;\n",
       "  align-items: stretch;\n",
       "  justify-content: center;\n",
       "  background-color: var(--sklearn-color-background);\n",
       "  position: relative;\n",
       "}\n",
       "\n",
       "#sk-container-id-1 div.sk-parallel-item {\n",
       "  display: flex;\n",
       "  flex-direction: column;\n",
       "}\n",
       "\n",
       "#sk-container-id-1 div.sk-parallel-item:first-child::after {\n",
       "  align-self: flex-end;\n",
       "  width: 50%;\n",
       "}\n",
       "\n",
       "#sk-container-id-1 div.sk-parallel-item:last-child::after {\n",
       "  align-self: flex-start;\n",
       "  width: 50%;\n",
       "}\n",
       "\n",
       "#sk-container-id-1 div.sk-parallel-item:only-child::after {\n",
       "  width: 0;\n",
       "}\n",
       "\n",
       "/* Serial-specific style estimator block */\n",
       "\n",
       "#sk-container-id-1 div.sk-serial {\n",
       "  display: flex;\n",
       "  flex-direction: column;\n",
       "  align-items: center;\n",
       "  background-color: var(--sklearn-color-background);\n",
       "  padding-right: 1em;\n",
       "  padding-left: 1em;\n",
       "}\n",
       "\n",
       "\n",
       "/* Toggleable style: style used for estimator/Pipeline/ColumnTransformer box that is\n",
       "clickable and can be expanded/collapsed.\n",
       "- Pipeline and ColumnTransformer use this feature and define the default style\n",
       "- Estimators will overwrite some part of the style using the `sk-estimator` class\n",
       "*/\n",
       "\n",
       "/* Pipeline and ColumnTransformer style (default) */\n",
       "\n",
       "#sk-container-id-1 div.sk-toggleable {\n",
       "  /* Default theme specific background. It is overwritten whether we have a\n",
       "  specific estimator or a Pipeline/ColumnTransformer */\n",
       "  background-color: var(--sklearn-color-background);\n",
       "}\n",
       "\n",
       "/* Toggleable label */\n",
       "#sk-container-id-1 label.sk-toggleable__label {\n",
       "  cursor: pointer;\n",
       "  display: block;\n",
       "  width: 100%;\n",
       "  margin-bottom: 0;\n",
       "  padding: 0.5em;\n",
       "  box-sizing: border-box;\n",
       "  text-align: center;\n",
       "}\n",
       "\n",
       "#sk-container-id-1 label.sk-toggleable__label-arrow:before {\n",
       "  /* Arrow on the left of the label */\n",
       "  content: \"▸\";\n",
       "  float: left;\n",
       "  margin-right: 0.25em;\n",
       "  color: var(--sklearn-color-icon);\n",
       "}\n",
       "\n",
       "#sk-container-id-1 label.sk-toggleable__label-arrow:hover:before {\n",
       "  color: var(--sklearn-color-text);\n",
       "}\n",
       "\n",
       "/* Toggleable content - dropdown */\n",
       "\n",
       "#sk-container-id-1 div.sk-toggleable__content {\n",
       "  max-height: 0;\n",
       "  max-width: 0;\n",
       "  overflow: hidden;\n",
       "  text-align: left;\n",
       "  /* unfitted */\n",
       "  background-color: var(--sklearn-color-unfitted-level-0);\n",
       "}\n",
       "\n",
       "#sk-container-id-1 div.sk-toggleable__content.fitted {\n",
       "  /* fitted */\n",
       "  background-color: var(--sklearn-color-fitted-level-0);\n",
       "}\n",
       "\n",
       "#sk-container-id-1 div.sk-toggleable__content pre {\n",
       "  margin: 0.2em;\n",
       "  border-radius: 0.25em;\n",
       "  color: var(--sklearn-color-text);\n",
       "  /* unfitted */\n",
       "  background-color: var(--sklearn-color-unfitted-level-0);\n",
       "}\n",
       "\n",
       "#sk-container-id-1 div.sk-toggleable__content.fitted pre {\n",
       "  /* unfitted */\n",
       "  background-color: var(--sklearn-color-fitted-level-0);\n",
       "}\n",
       "\n",
       "#sk-container-id-1 input.sk-toggleable__control:checked~div.sk-toggleable__content {\n",
       "  /* Expand drop-down */\n",
       "  max-height: 200px;\n",
       "  max-width: 100%;\n",
       "  overflow: auto;\n",
       "}\n",
       "\n",
       "#sk-container-id-1 input.sk-toggleable__control:checked~label.sk-toggleable__label-arrow:before {\n",
       "  content: \"▾\";\n",
       "}\n",
       "\n",
       "/* Pipeline/ColumnTransformer-specific style */\n",
       "\n",
       "#sk-container-id-1 div.sk-label input.sk-toggleable__control:checked~label.sk-toggleable__label {\n",
       "  color: var(--sklearn-color-text);\n",
       "  background-color: var(--sklearn-color-unfitted-level-2);\n",
       "}\n",
       "\n",
       "#sk-container-id-1 div.sk-label.fitted input.sk-toggleable__control:checked~label.sk-toggleable__label {\n",
       "  background-color: var(--sklearn-color-fitted-level-2);\n",
       "}\n",
       "\n",
       "/* Estimator-specific style */\n",
       "\n",
       "/* Colorize estimator box */\n",
       "#sk-container-id-1 div.sk-estimator input.sk-toggleable__control:checked~label.sk-toggleable__label {\n",
       "  /* unfitted */\n",
       "  background-color: var(--sklearn-color-unfitted-level-2);\n",
       "}\n",
       "\n",
       "#sk-container-id-1 div.sk-estimator.fitted input.sk-toggleable__control:checked~label.sk-toggleable__label {\n",
       "  /* fitted */\n",
       "  background-color: var(--sklearn-color-fitted-level-2);\n",
       "}\n",
       "\n",
       "#sk-container-id-1 div.sk-label label.sk-toggleable__label,\n",
       "#sk-container-id-1 div.sk-label label {\n",
       "  /* The background is the default theme color */\n",
       "  color: var(--sklearn-color-text-on-default-background);\n",
       "}\n",
       "\n",
       "/* On hover, darken the color of the background */\n",
       "#sk-container-id-1 div.sk-label:hover label.sk-toggleable__label {\n",
       "  color: var(--sklearn-color-text);\n",
       "  background-color: var(--sklearn-color-unfitted-level-2);\n",
       "}\n",
       "\n",
       "/* Label box, darken color on hover, fitted */\n",
       "#sk-container-id-1 div.sk-label.fitted:hover label.sk-toggleable__label.fitted {\n",
       "  color: var(--sklearn-color-text);\n",
       "  background-color: var(--sklearn-color-fitted-level-2);\n",
       "}\n",
       "\n",
       "/* Estimator label */\n",
       "\n",
       "#sk-container-id-1 div.sk-label label {\n",
       "  font-family: monospace;\n",
       "  font-weight: bold;\n",
       "  display: inline-block;\n",
       "  line-height: 1.2em;\n",
       "}\n",
       "\n",
       "#sk-container-id-1 div.sk-label-container {\n",
       "  text-align: center;\n",
       "}\n",
       "\n",
       "/* Estimator-specific */\n",
       "#sk-container-id-1 div.sk-estimator {\n",
       "  font-family: monospace;\n",
       "  border: 1px dotted var(--sklearn-color-border-box);\n",
       "  border-radius: 0.25em;\n",
       "  box-sizing: border-box;\n",
       "  margin-bottom: 0.5em;\n",
       "  /* unfitted */\n",
       "  background-color: var(--sklearn-color-unfitted-level-0);\n",
       "}\n",
       "\n",
       "#sk-container-id-1 div.sk-estimator.fitted {\n",
       "  /* fitted */\n",
       "  background-color: var(--sklearn-color-fitted-level-0);\n",
       "}\n",
       "\n",
       "/* on hover */\n",
       "#sk-container-id-1 div.sk-estimator:hover {\n",
       "  /* unfitted */\n",
       "  background-color: var(--sklearn-color-unfitted-level-2);\n",
       "}\n",
       "\n",
       "#sk-container-id-1 div.sk-estimator.fitted:hover {\n",
       "  /* fitted */\n",
       "  background-color: var(--sklearn-color-fitted-level-2);\n",
       "}\n",
       "\n",
       "/* Specification for estimator info (e.g. \"i\" and \"?\") */\n",
       "\n",
       "/* Common style for \"i\" and \"?\" */\n",
       "\n",
       ".sk-estimator-doc-link,\n",
       "a:link.sk-estimator-doc-link,\n",
       "a:visited.sk-estimator-doc-link {\n",
       "  float: right;\n",
       "  font-size: smaller;\n",
       "  line-height: 1em;\n",
       "  font-family: monospace;\n",
       "  background-color: var(--sklearn-color-background);\n",
       "  border-radius: 1em;\n",
       "  height: 1em;\n",
       "  width: 1em;\n",
       "  text-decoration: none !important;\n",
       "  margin-left: 1ex;\n",
       "  /* unfitted */\n",
       "  border: var(--sklearn-color-unfitted-level-1) 1pt solid;\n",
       "  color: var(--sklearn-color-unfitted-level-1);\n",
       "}\n",
       "\n",
       ".sk-estimator-doc-link.fitted,\n",
       "a:link.sk-estimator-doc-link.fitted,\n",
       "a:visited.sk-estimator-doc-link.fitted {\n",
       "  /* fitted */\n",
       "  border: var(--sklearn-color-fitted-level-1) 1pt solid;\n",
       "  color: var(--sklearn-color-fitted-level-1);\n",
       "}\n",
       "\n",
       "/* On hover */\n",
       "div.sk-estimator:hover .sk-estimator-doc-link:hover,\n",
       ".sk-estimator-doc-link:hover,\n",
       "div.sk-label-container:hover .sk-estimator-doc-link:hover,\n",
       ".sk-estimator-doc-link:hover {\n",
       "  /* unfitted */\n",
       "  background-color: var(--sklearn-color-unfitted-level-3);\n",
       "  color: var(--sklearn-color-background);\n",
       "  text-decoration: none;\n",
       "}\n",
       "\n",
       "div.sk-estimator.fitted:hover .sk-estimator-doc-link.fitted:hover,\n",
       ".sk-estimator-doc-link.fitted:hover,\n",
       "div.sk-label-container:hover .sk-estimator-doc-link.fitted:hover,\n",
       ".sk-estimator-doc-link.fitted:hover {\n",
       "  /* fitted */\n",
       "  background-color: var(--sklearn-color-fitted-level-3);\n",
       "  color: var(--sklearn-color-background);\n",
       "  text-decoration: none;\n",
       "}\n",
       "\n",
       "/* Span, style for the box shown on hovering the info icon */\n",
       ".sk-estimator-doc-link span {\n",
       "  display: none;\n",
       "  z-index: 9999;\n",
       "  position: relative;\n",
       "  font-weight: normal;\n",
       "  right: .2ex;\n",
       "  padding: .5ex;\n",
       "  margin: .5ex;\n",
       "  width: min-content;\n",
       "  min-width: 20ex;\n",
       "  max-width: 50ex;\n",
       "  color: var(--sklearn-color-text);\n",
       "  box-shadow: 2pt 2pt 4pt #999;\n",
       "  /* unfitted */\n",
       "  background: var(--sklearn-color-unfitted-level-0);\n",
       "  border: .5pt solid var(--sklearn-color-unfitted-level-3);\n",
       "}\n",
       "\n",
       ".sk-estimator-doc-link.fitted span {\n",
       "  /* fitted */\n",
       "  background: var(--sklearn-color-fitted-level-0);\n",
       "  border: var(--sklearn-color-fitted-level-3);\n",
       "}\n",
       "\n",
       ".sk-estimator-doc-link:hover span {\n",
       "  display: block;\n",
       "}\n",
       "\n",
       "/* \"?\"-specific style due to the `<a>` HTML tag */\n",
       "\n",
       "#sk-container-id-1 a.estimator_doc_link {\n",
       "  float: right;\n",
       "  font-size: 1rem;\n",
       "  line-height: 1em;\n",
       "  font-family: monospace;\n",
       "  background-color: var(--sklearn-color-background);\n",
       "  border-radius: 1rem;\n",
       "  height: 1rem;\n",
       "  width: 1rem;\n",
       "  text-decoration: none;\n",
       "  /* unfitted */\n",
       "  color: var(--sklearn-color-unfitted-level-1);\n",
       "  border: var(--sklearn-color-unfitted-level-1) 1pt solid;\n",
       "}\n",
       "\n",
       "#sk-container-id-1 a.estimator_doc_link.fitted {\n",
       "  /* fitted */\n",
       "  border: var(--sklearn-color-fitted-level-1) 1pt solid;\n",
       "  color: var(--sklearn-color-fitted-level-1);\n",
       "}\n",
       "\n",
       "/* On hover */\n",
       "#sk-container-id-1 a.estimator_doc_link:hover {\n",
       "  /* unfitted */\n",
       "  background-color: var(--sklearn-color-unfitted-level-3);\n",
       "  color: var(--sklearn-color-background);\n",
       "  text-decoration: none;\n",
       "}\n",
       "\n",
       "#sk-container-id-1 a.estimator_doc_link.fitted:hover {\n",
       "  /* fitted */\n",
       "  background-color: var(--sklearn-color-fitted-level-3);\n",
       "}\n",
       "</style><div id=\"sk-container-id-1\" class=\"sk-top-container\"><div class=\"sk-text-repr-fallback\"><pre>SVC(C=1000, kernel=&#x27;linear&#x27;)</pre><b>In a Jupyter environment, please rerun this cell to show the HTML representation or trust the notebook. <br />On GitHub, the HTML representation is unable to render, please try loading this page with nbviewer.org.</b></div><div class=\"sk-container\" hidden><div class=\"sk-item\"><div class=\"sk-estimator fitted sk-toggleable\"><input class=\"sk-toggleable__control sk-hidden--visually\" id=\"sk-estimator-id-1\" type=\"checkbox\" checked><label for=\"sk-estimator-id-1\" class=\"sk-toggleable__label fitted sk-toggleable__label-arrow fitted\">&nbsp;&nbsp;SVC<a class=\"sk-estimator-doc-link fitted\" rel=\"noreferrer\" target=\"_blank\" href=\"https://scikit-learn.org/1.5/modules/generated/sklearn.svm.SVC.html\">?<span>Documentation for SVC</span></a><span class=\"sk-estimator-doc-link fitted\">i<span>Fitted</span></span></label><div class=\"sk-toggleable__content fitted\"><pre>SVC(C=1000, kernel=&#x27;linear&#x27;)</pre></div> </div></div></div></div>"
      ],
      "text/plain": [
       "SVC(C=1000, kernel='linear')"
      ]
     },
     "execution_count": 36,
     "metadata": {},
     "output_type": "execute_result"
    }
   ],
   "source": [
    "# Let's train a model: now that the setup is done, it's a piece of cake!\n",
    "%time\n",
    "# instantiate an SVM classification model\n",
    "# https://scikit-learn.org/stable/modules/generated/sklearn.svm.SVC.html#sklearn.svm.SVC\n",
    "# you can set various model hyperparamters here\n",
    "model = sklearn.svm.SVC(C=1000, kernel =\"linear\")\n",
    "# then train the model!\n",
    "model.fit(X_train,y_train)"
   ]
  },
  {
   "cell_type": "code",
   "execution_count": 37,
   "metadata": {
    "scrolled": true
   },
   "outputs": [
    {
     "name": "stdout",
     "output_type": "stream",
     "text": [
      "  (0, 3394)\t1.0\n",
      "  (0, 7590)\t1.0\n",
      "  (0, 4075)\t1.0\n",
      "  (0, 9385)\t1.0\n",
      "  (0, 8792)\t1.0\n",
      "  (0, 6827)\t1.0\n",
      "  (0, 8769)\t1.0\n",
      "Prediction was: 0\n",
      "{'Pets & Animals': 0, 'Nonprofits & Activism': 1, 'Comedy': 2, 'Film & Animation': 3, 'Education': 4, 'Autos & Vehicles': 5, 'Music': 6, 'Science & Technology': 7, 'Travel & Events': 8, 'Sports': 9, 'Howto & Style': 10, 'News & Politics': 11, 'Entertainment': 12, 'Gaming': 13}\n"
     ]
    }
   ],
   "source": [
    "# make a prediction\n",
    "sample_text = ['retweet','if','you','are','a','netflix','person']\n",
    "# create just a single vector as input (as a 1 x V matrix)\n",
    "sample_x_in = scipy.sparse.dok_matrix((1,len(word2id)+1))\n",
    "for word in sample_text:\n",
    "    sample_x_in[0,word2id[word]] += 1\n",
    "\n",
    "# what does the example document look like?\n",
    "print(sample_x_in)\n",
    "prediction = model.predict(sample_x_in)\n",
    "# what category was predicted?\n",
    "print(\"Prediction was:\",prediction[0])\n",
    "# what category was that?\n",
    "print(cat2id)"
   ]
  },
  {
   "cell_type": "markdown",
   "metadata": {},
   "source": [
    "### 7. Evaluating the model"
   ]
  },
  {
   "cell_type": "code",
   "execution_count": 38,
   "metadata": {},
   "outputs": [
    {
     "name": "stdout",
     "output_type": "stream",
     "text": [
      "Accuracy: 1.0\n"
     ]
    }
   ],
   "source": [
    "# evaluate on training data: how well did we fit to the data we trained on?\n",
    "y_train_predictions = model.predict(X_train)\n",
    "\n",
    "# now can compute any metrics we care about. Let's quickly do accuracy\n",
    "def compute_accuracy(predictions, true_values):\n",
    "    num_correct = 0\n",
    "    num_total = len(predictions)\n",
    "    for predicted,true in zip(predictions,true_values):\n",
    "        if predicted==true:\n",
    "            num_correct += 1\n",
    "    return num_correct / num_total\n",
    "\n",
    "accuracy = compute_accuracy(y_train_predictions,y_train)\n",
    "print(\"Accuracy:\",accuracy)\n",
    "# how did we do?"
   ]
  },
  {
   "cell_type": "markdown",
   "metadata": {},
   "source": [
    "Is that a good score? The score can be informative, but it isn't hard to do well on the training data."
   ]
  },
  {
   "cell_type": "markdown",
   "metadata": {},
   "source": [
    "### 8. Using the test set"
   ]
  },
  {
   "cell_type": "code",
   "execution_count": 39,
   "metadata": {},
   "outputs": [],
   "source": [
    "# prepare test data in the same was as training data\n",
    "X_test = convert_to_bow_matrix(preprocessed_test_data, word2id)\n",
    "y_test = [cat2id[cat] for cat in test_categories]"
   ]
  },
  {
   "cell_type": "code",
   "execution_count": 40,
   "metadata": {
    "scrolled": true
   },
   "outputs": [
    {
     "data": {
      "text/plain": [
       "array([ 0,  3,  9,  5,  2, 11, 13,  0,  3,  1,  8,  4, 11,  3,  5,  0, 12,\n",
       "        7,  4,  0,  4,  7,  0, 11,  8,  6,  8,  5,  5,  1,  3, 11, 13,  2,\n",
       "       10,  8,  9,  2,  2,  8,  6,  9,  9,  4,  8,  7,  7,  9,  0,  7,  8,\n",
       "        7,  8,  0, 10, 13, 12, 12,  6, 10, 10, 10, 10, 10, 13,  0,  1,  6,\n",
       "        6,  9, 12, 12, 12,  9,  0,  9, 12,  3,  9, 11,  0,  0,  0,  8,  5,\n",
       "        9, 11, 12, 12,  3,  4, 11,  2,  1,  5, 10, 13,  8, 13,  5,  4,  8,\n",
       "        8,  3, 10, 11,  0,  1,  8,  9,  2,  9,  2,  7, 12,  5,  5,  5,  5,\n",
       "       12,  8,  2,  5,  6, 11, 13,  1,  3, 12, 12, 12, 12, 11,  5, 10,  8,\n",
       "        5,  5,  7,  4,  5,  4,  8,  8,  6,  4, 13, 13,  4, 11,  0,  7,  0,\n",
       "        0,  5,  3, 12, 10, 11,  3, 12, 13, 13, 13, 11,  0,  9,  9,  9, 11,\n",
       "        7, 12,  8, 12, 12,  4,  1,  6,  1, 13, 13,  3, 11,  1, 12, 12,  5,\n",
       "        7,  5,  8,  7, 12,  3, 12,  8,  7, 11, 12,  7,  8, 13, 11,  1, 12,\n",
       "        1,  6,  6,  5,  2, 11,  0,  8,  7,  6, 12, 12,  1, 12,  0,  1,  5,\n",
       "       13,  4,  6,  6,  1,  9, 13, 12,  4, 11,  8,  8,  0,  9, 11,  5, 10,\n",
       "        1,  7,  5,  5,  7, 13,  3, 13,  4, 13,  4,  8, 11,  3,  1,  1, 10,\n",
       "        0,  7,  7,  0,  0,  2,  4,  2,  8,  3,  2,  2,  4,  0,  1,  0,  0,\n",
       "       12,  9,  3,  2,  8,  8,  7,  6,  4,  6,  1,  9,  2,  9,  8, 11,  4,\n",
       "        7, 13,  9,  4,  5,  6, 13,  5, 13,  4,  3,  5,  8,  1,  0,  7,  8,\n",
       "        9, 11,  1, 11,  4, 10,  0,  6, 11, 11, 13,  7, 11, 11,  5,  3,  8,\n",
       "        5,  7,  7, 13,  5,  5,  5,  5,  5,  7,  5,  5,  5,  5,  5,  8,  5,\n",
       "       11,  5,  5,  5,  5, 13, 11,  0,  6, 11,  7,  1, 11,  1, 13,  4,  1,\n",
       "        9, 11,  1,  0,  1,  1,  1, 11,  2,  9,  1,  2, 11,  2,  2,  2,  1,\n",
       "        2,  2,  2,  1,  2,  2,  2,  2,  2,  6,  9, 13,  3,  7,  8,  1,  7,\n",
       "        3,  3,  8, 13, 13,  3,  3,  3,  3,  3,  2,  3,  3,  0,  0, 11,  0,\n",
       "        0,  0,  2, 10, 13,  0,  0,  0,  0,  0,  0,  0,  0,  0,  0, 13,  0,\n",
       "        5, 12, 10,  3,  1, 10,  8, 12, 12,  3, 12,  6, 12, 12,  4, 12, 10,\n",
       "       12, 12,  5,  0, 11, 11,  4,  4, 10,  6,  4,  5,  6, 13,  4,  7,  1,\n",
       "        8, 11,  4,  9, 13, 13, 13, 10, 13, 13, 13, 13, 13, 11, 13, 13, 13,\n",
       "        3, 13, 11,  8, 13,  6, 13, 13,  7, 13,  4,  9,  9,  1, 11, 11,  9,\n",
       "        7,  1,  9,  9,  9,  9,  9,  9,  9, 12, 11,  6,  6, 11,  9, 11,  9,\n",
       "        9,  9,  9, 10, 11, 10,  3, 10, 11, 10,  1, 10,  9, 10, 10, 10, 10,\n",
       "        7, 10, 10,  1, 10,  0, 10, 10, 10, 10, 10,  7,  9,  7, 11, 11, 11,\n",
       "        4,  3,  7,  8, 11,  9,  7,  1,  7,  7,  2,  4,  7,  5,  8,  7, 13,\n",
       "        8, 11,  8,  8,  2,  8,  8, 11,  8,  8, 11,  8,  3, 11,  3,  8,  8,\n",
       "        8,  8,  8,  2,  8,  6,  6,  3,  6, 11,  7,  6,  6,  6,  5,  6,  3,\n",
       "        7, 11,  6, 13, 11,  8,  2, 13,  6,  6,  0, 11, 11, 11, 11, 11,  9,\n",
       "       11, 11, 11, 11, 11,  7, 11,  9, 11, 13,  8, 12,  1])"
      ]
     },
     "execution_count": 40,
     "metadata": {},
     "output_type": "execute_result"
    }
   ],
   "source": [
    "# now evaluate on test data: data the model has NOT seen during training time\n",
    "# make sure you do NOT update the model, only get predictions from it\n",
    "y_test_predictions = model.predict(X_test)\n",
    "y_test_predictions\n",
    "\n",
    "#accuracy = compute_accuracy(y_test_predictions,y_test)\n",
    "#print(\"Accuracy:\",accuracy)"
   ]
  },
  {
   "cell_type": "code",
   "execution_count": 41,
   "metadata": {},
   "outputs": [
    {
     "name": "stdout",
     "output_type": "stream",
     "text": [
      "                       precision    recall  f1-score   support\n",
      "\n",
      "       Pets & Animals       0.73      0.80      0.77        45\n",
      "Nonprofits & Activism       0.42      0.45      0.44        38\n",
      "               Comedy       0.59      0.53      0.56        38\n",
      "     Film & Animation       0.51      0.41      0.46        46\n",
      "            Education       0.62      0.49      0.55        41\n",
      "     Autos & Vehicles       0.82      0.78      0.80        51\n",
      "                Music       0.57      0.50      0.53        40\n",
      " Science & Technology       0.36      0.37      0.37        43\n",
      "      Travel & Events       0.55      0.57      0.56        54\n",
      "               Sports       0.59      0.51      0.55        53\n",
      "        Howto & Style       0.81      0.75      0.78        40\n",
      "      News & Politics       0.28      0.54      0.37        37\n",
      "        Entertainment       0.83      0.71      0.77        49\n",
      "               Gaming       0.62      0.66      0.64        50\n",
      "\n",
      "             accuracy                           0.58       625\n",
      "            macro avg       0.59      0.58      0.58       625\n",
      "         weighted avg       0.60      0.58      0.59       625\n",
      "\n"
     ]
    }
   ],
   "source": [
    "cat_names = []\n",
    "for cat,cid in sorted(cat2id.items(),key=lambda x:x[1]):\n",
    "    cat_names.append(cat)\n",
    "print(classification_report(y_test, y_test_predictions, target_names=cat_names))"
   ]
  },
  {
   "cell_type": "code",
   "execution_count": 42,
   "metadata": {},
   "outputs": [
    {
     "name": "stdout",
     "output_type": "stream",
     "text": [
      "Accuracy: 0.0848\n"
     ]
    }
   ],
   "source": [
    "# what would a simple baseline be? How about most common category from before (Gaming)?\n",
    "# we should *definitely* be doing better than this! Otherwise the model is not helping at all\n",
    "baseline_predictions = [cat2id['Gaming']] * len(y_test)\n",
    "baseline_accuracy = compute_accuracy(baseline_predictions,y_train)\n",
    "print(\"Accuracy:\",baseline_accuracy)"
   ]
  },
  {
   "cell_type": "code",
   "execution_count": 43,
   "metadata": {},
   "outputs": [
    {
     "name": "stdout",
     "output_type": "stream",
     "text": [
      "CPU times: total: 0 ns\n",
      "Wall time: 0 ns\n",
      "Train accuracy was: 1.0\n",
      "Test accuracy was: 0.6384\n"
     ]
    }
   ],
   "source": [
    "# trying a different model...\n",
    "# how about a random forest classifier?\n",
    "%time\n",
    "model = sklearn.ensemble.RandomForestClassifier()\n",
    "model.fit(X_train,y_train)\n",
    "\n",
    "y_train_predictions = model.predict(X_train)\n",
    "print(\"Train accuracy was:\",compute_accuracy(y_train_predictions,y_train))\n",
    "y_test_predictions = model.predict(X_test)\n",
    "print(\"Test accuracy was:\",compute_accuracy(y_test_predictions,y_test))"
   ]
  },
  {
   "cell_type": "code",
   "execution_count": 44,
   "metadata": {
    "scrolled": true
   },
   "outputs": [
    {
     "name": "stdout",
     "output_type": "stream",
     "text": [
      "                       precision    recall  f1-score   support\n",
      "\n",
      "       Pets & Animals       0.79      0.84      0.82        45\n",
      "Nonprofits & Activism       0.76      0.42      0.54        38\n",
      "               Comedy       0.74      0.61      0.67        38\n",
      "     Film & Animation       0.53      0.65      0.58        46\n",
      "            Education       0.72      0.63      0.68        41\n",
      "     Autos & Vehicles       0.87      0.88      0.87        51\n",
      "                Music       0.59      0.60      0.59        40\n",
      " Science & Technology       0.38      0.37      0.38        43\n",
      "      Travel & Events       0.47      0.52      0.50        54\n",
      "               Sports       0.68      0.51      0.58        53\n",
      "        Howto & Style       0.81      0.75      0.78        40\n",
      "      News & Politics       0.30      0.70      0.42        37\n",
      "        Entertainment       0.95      0.71      0.81        49\n",
      "               Gaming       0.92      0.70      0.80        50\n",
      "\n",
      "             accuracy                           0.64       625\n",
      "            macro avg       0.68      0.64      0.64       625\n",
      "         weighted avg       0.68      0.64      0.65       625\n",
      "\n"
     ]
    }
   ],
   "source": [
    "cat_names = []\n",
    "for cat,cid in sorted(cat2id.items(),key=lambda x:x[1]):\n",
    "    cat_names.append(cat)\n",
    "print(classification_report(y_test, y_test_predictions, target_names=cat_names))"
   ]
  },
  {
   "cell_type": "markdown",
   "metadata": {},
   "source": [
    "### 9. Other models to try?"
   ]
  },
  {
   "cell_type": "markdown",
   "metadata": {},
   "source": [
    "* Check out all of the multiclass ready models!  https://scikit-learn.org/stable/modules/multiclass.html\n",
    "* Define your own features, vary preprocessing steps, model parameters, .....\n",
    "* Try fine-tuning transformer models for text classification instead of extracting traditional features: https://huggingface.co/docs/transformers/tasks/sequence_classification\n",
    "* Try generating embeddings with a transformer models, then using them as additional features in your classifier (in addition to your own): https://www.sbert.net/"
   ]
  }
 ],
 "metadata": {
  "kernelspec": {
   "display_name": "Python 3",
   "language": "python",
   "name": "python3"
  },
  "language_info": {
   "codemirror_mode": {
    "name": "ipython",
    "version": 3
   },
   "file_extension": ".py",
   "mimetype": "text/x-python",
   "name": "python",
   "nbconvert_exporter": "python",
   "pygments_lexer": "ipython3",
   "version": "3.11.5"
  }
 },
 "nbformat": 4,
 "nbformat_minor": 4
}
