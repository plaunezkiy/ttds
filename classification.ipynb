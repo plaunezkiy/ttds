{
 "cells": [
  {
   "cell_type": "code",
   "execution_count": 1,
   "metadata": {},
   "outputs": [],
   "source": [
    "from scipy.sparse import dok_matrix\n",
    "from sklearn.svm import SVC\n",
    "from sklearn.metrics import classification_report\n",
    "from utils.processing import tokenize_text, process_tokens"
   ]
  },
  {
   "cell_type": "code",
   "execution_count": 2,
   "metadata": {},
   "outputs": [
    {
     "data": {
      "text/plain": [
       "'/afs/inf.ed.ac.uk/user/s21/s2150635/Desktop/ttds'"
      ]
     },
     "execution_count": 2,
     "metadata": {},
     "output_type": "execute_result"
    }
   ],
   "source": [
    "import os\n",
    "os.getcwd()"
   ]
  },
  {
   "cell_type": "code",
   "execution_count": 3,
   "metadata": {},
   "outputs": [],
   "source": [
    "def convert_to_bow(data, word2id):\n",
    "    matrix_size = (len(data), len(word2id)+1)\n",
    "    oov_index = len(word2id)\n",
    "    bow = dok_matrix(matrix_size)\n",
    "    for doc_id, doc in enumerate(data):\n",
    "        for word in doc:\n",
    "            word_id = word2id.get(word, oov_index)\n",
    "            bow[doc_id, word_id] += 1\n",
    "    return bow"
   ]
  },
  {
   "cell_type": "code",
   "execution_count": 4,
   "metadata": {},
   "outputs": [],
   "source": [
    "def preprocess_data(data):\n",
    "    documents = []\n",
    "    categories = []\n",
    "    vocab = set()\n",
    "    \n",
    "    for line in data.split(\"\\n\"):\n",
    "        if not line:\n",
    "            continue\n",
    "        tweet_id, category, tweet = line.split(\"\\t\")\n",
    "        tokens = tokenize_text(tweet)\n",
    "        processed_tokens = process_tokens(tokens)\n",
    "        documents.append(processed_tokens)\n",
    "        categories.append(category)\n",
    "        vocab.update(processed_tokens)\n",
    "    \n",
    "    word2id = {word: i for i, word in enumerate(vocab)}\n",
    "    cat2id = {cat: i for i, cat in enumerate(set(categories))}\n",
    "\n",
    "    return documents, categories, vocab, word2id, cat2id\n"
   ]
  },
  {
   "cell_type": "code",
   "execution_count": 8,
   "metadata": {},
   "outputs": [],
   "source": [
    "train_data = open('data/collections/train.txt', encoding=\"utf-8\").read()\n",
    "test_data = open('data/collections/test.txt', encoding=\"utf-8\").read()"
   ]
  },
  {
   "cell_type": "code",
   "execution_count": 7,
   "metadata": {},
   "outputs": [
    {
     "data": {
      "text/plain": [
       "SVC(C=1000, kernel='linear')"
      ]
     },
     "execution_count": 7,
     "metadata": {},
     "output_type": "execute_result"
    }
   ],
   "source": [
    "train_data = open('data/collections/train.txt', encoding=\"utf-8\").read()\n",
    "train_docs, train_cats, train_vocab, word2id, cat2id = preprocess_data(train_data)\n",
    "# baseline\n",
    "X_train = convert_to_bow(train_docs, word2id)\n",
    "Y_train = [cat2id[cat] for cat in train_cats]\n",
    "model = SVC(C=1000, kernel='linear')\n",
    "model.fit(X_train, Y_train)"
   ]
  },
  {
   "cell_type": "code",
   "execution_count": 9,
   "metadata": {},
   "outputs": [],
   "source": [
    "test_docs, test_cats, _, _, _ = preprocess_data(test_data)\n",
    "X_test = convert_to_bow(test_docs, word2id)\n",
    "Y_test = [cat2id[cat] for cat in test_cats]"
   ]
  },
  {
   "cell_type": "code",
   "execution_count": 10,
   "metadata": {},
   "outputs": [],
   "source": [
    "Y_test_pred = model.predict(X_test)"
   ]
  },
  {
   "cell_type": "code",
   "execution_count": 11,
   "metadata": {},
   "outputs": [
    {
     "name": "stdout",
     "output_type": "stream",
     "text": [
      "              precision    recall  f1-score   support\n",
      "\n",
      "   sentiment       0.07      1.00      0.13         1\n",
      "    negative       0.44      0.54      0.49       970\n",
      "    positive       0.55      0.54      0.55      1495\n",
      "     neutral       0.58      0.52      0.55      2197\n",
      "\n",
      "    accuracy                           0.53      4663\n",
      "   macro avg       0.41      0.65      0.43      4663\n",
      "weighted avg       0.54      0.53      0.54      4663\n",
      "\n"
     ]
    }
   ],
   "source": [
    "cat_names = []\n",
    "for cat,cid in sorted(cat2id.items(),key=lambda x:x[1]):\n",
    "    cat_names.append(cat)\n",
    "print(classification_report(Y_test, Y_test_pred, target_names=cat_names))"
   ]
  }
 ],
 "metadata": {
  "kernelspec": {
   "display_name": "Python 3",
   "language": "python",
   "name": "python3"
  },
  "language_info": {
   "codemirror_mode": {
    "name": "ipython",
    "version": 3
   },
   "file_extension": ".py",
   "mimetype": "text/x-python",
   "name": "python",
   "nbconvert_exporter": "python",
   "pygments_lexer": "ipython3",
   "version": "3.10.12"
  }
 },
 "nbformat": 4,
 "nbformat_minor": 2
}
